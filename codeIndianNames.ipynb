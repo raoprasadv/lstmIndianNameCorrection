{
 "cells": [
  {
   "cell_type": "code",
   "execution_count": 1,
   "metadata": {},
   "outputs": [],
   "source": [
    "INFIL = '/Users/prasad/Desktop/data/male_names/Indian-Male-Names.csv'\n",
    "OUTFIL = '/Users/prasad/Desktop/data/male_name_coded/IMN_short.csv'"
   ]
  },
  {
   "cell_type": "code",
   "execution_count": 2,
   "metadata": {},
   "outputs": [],
   "source": [
    "import csv"
   ]
  },
  {
   "cell_type": "code",
   "execution_count": 3,
   "metadata": {},
   "outputs": [],
   "source": [
    "chop_words = [' s/o', ' age-', ' @',' with', ' (', ' along', ' r/o', ' ms/o']\n",
    "\n",
    "def chop_wrt(s,w):\n",
    "    if w in s:\n",
    "        idx = s.find(w)\n",
    "        return s[:idx]\n",
    "    return s\n",
    "\n",
    "def chop_wrt_l(s,l=chop_words):\n",
    "    s1 = s\n",
    "    for w in l:\n",
    "        s1 = chop_wrt(s1,w)\n",
    "    return s1\n",
    "\n",
    "assert chop_wrt(\"aaaaxxx\",'xxx') == 'aaaa'\n",
    "assert chop_wrt_l('aaaa @xxx') == 'aaaa'"
   ]
  },
  {
   "cell_type": "code",
   "execution_count": 4,
   "metadata": {},
   "outputs": [],
   "source": [
    "LIMIT = 50\n",
    "\n",
    "def is_vowel(x):\n",
    "    return x in {'a','e','i','o','u','y'}\n",
    "\n",
    "def truncate(x,n):\n",
    "    return x[:n]\n",
    "\n",
    "def drop_vowels(s,k):\n",
    "    out_str = ''\n",
    "    dropped = []\n",
    "    for c in s:\n",
    "        if len(dropped) < k:\n",
    "            if is_vowel(c):\n",
    "                dropped.append(c)\n",
    "                continue\n",
    "        out_str += c\n",
    "    return out_str\n",
    "\n",
    "def subst(x, a_dict):\n",
    "    out_str = ''\n",
    "    for c in x:\n",
    "        out_str += a_dict.get(c,c)\n",
    "    return out_str\n",
    "\n",
    "\n",
    "def rule1(x):\n",
    "    return drop_vowels(x,1)[:LIMIT]\n",
    "\n",
    "def rule2(x):\n",
    "    return drop_vowels(x,5)[:LIMIT]\n",
    "\n",
    "def rule3(x):\n",
    "    return subst(x, {'t':'w', 's':'x'})[:LIMIT]\n",
    "            \n",
    "rulez = [rule1, rule2, rule3]\n",
    "    "
   ]
  },
  {
   "cell_type": "markdown",
   "metadata": {},
   "source": [
    "Fake exercise to code Indian male names to 'k' characters and train a LSTM to decode it."
   ]
  },
  {
   "cell_type": "code",
   "execution_count": 5,
   "metadata": {},
   "outputs": [],
   "source": [
    "with open(INFIL) as inF:\n",
    "    with open(OUTFIL,'w') as outF:\n",
    "        rdr = csv.reader(inF)\n",
    "        wrtr = csv.writer(outF)\n",
    "        for row in rdr:\n",
    "            nam = chop_wrt_l(row[0])\n",
    "            for idx,func in enumerate(rulez):\n",
    "                tup = [nam, func(nam), idx] + row[1:]\n",
    "                wrtr.writerow(tup)\n",
    "    \n",
    "    "
   ]
  },
  {
   "cell_type": "code",
   "execution_count": null,
   "metadata": {},
   "outputs": [],
   "source": []
  }
 ],
 "metadata": {
  "kernelspec": {
   "display_name": "Python (nltkE)",
   "language": "python",
   "name": "nltke"
  },
  "language_info": {
   "codemirror_mode": {
    "name": "ipython",
    "version": 3
   },
   "file_extension": ".py",
   "mimetype": "text/x-python",
   "name": "python",
   "nbconvert_exporter": "python",
   "pygments_lexer": "ipython3",
   "version": "3.6.5"
  }
 },
 "nbformat": 4,
 "nbformat_minor": 2
}
